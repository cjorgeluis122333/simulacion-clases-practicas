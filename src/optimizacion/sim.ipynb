{
 "cells": [
  {
   "cell_type": "code",
   "execution_count": null,
   "id": "initial_id",
   "metadata": {
    "collapsed": true
   },
   "outputs": [],
   "source": []
  },
  {
   "cell_type": "code",
   "outputs": [
    {
     "data": {
      "text/plain": "           Mon   Tue   Wed   Thu   Fri  Total\nKC         2.0   0.0   3.0   0.0   4.0    9.0\nDH         0.0   2.0   0.0   6.0   0.0    8.0\nHB         4.0   7.0   4.0   0.0   4.0   19.0\nSC         5.0   5.0   5.0   0.0   5.0   20.0\nKS         3.0   0.0   2.0   2.0   0.0    7.0\nNK         0.0   0.0   0.0   6.0   1.0    7.0\nDailySum  14.0  14.0  14.0  14.0  14.0   70.0\nCost       NaN   NaN   NaN   NaN   NaN  709.6",
      "text/html": "<div>\n<style scoped>\n    .dataframe tbody tr th:only-of-type {\n        vertical-align: middle;\n    }\n\n    .dataframe tbody tr th {\n        vertical-align: top;\n    }\n\n    .dataframe thead th {\n        text-align: right;\n    }\n</style>\n<table border=\"1\" class=\"dataframe\">\n  <thead>\n    <tr style=\"text-align: right;\">\n      <th></th>\n      <th>Mon</th>\n      <th>Tue</th>\n      <th>Wed</th>\n      <th>Thu</th>\n      <th>Fri</th>\n      <th>Total</th>\n    </tr>\n  </thead>\n  <tbody>\n    <tr>\n      <th>KC</th>\n      <td>2.0</td>\n      <td>0.0</td>\n      <td>3.0</td>\n      <td>0.0</td>\n      <td>4.0</td>\n      <td>9.0</td>\n    </tr>\n    <tr>\n      <th>DH</th>\n      <td>0.0</td>\n      <td>2.0</td>\n      <td>0.0</td>\n      <td>6.0</td>\n      <td>0.0</td>\n      <td>8.0</td>\n    </tr>\n    <tr>\n      <th>HB</th>\n      <td>4.0</td>\n      <td>7.0</td>\n      <td>4.0</td>\n      <td>0.0</td>\n      <td>4.0</td>\n      <td>19.0</td>\n    </tr>\n    <tr>\n      <th>SC</th>\n      <td>5.0</td>\n      <td>5.0</td>\n      <td>5.0</td>\n      <td>0.0</td>\n      <td>5.0</td>\n      <td>20.0</td>\n    </tr>\n    <tr>\n      <th>KS</th>\n      <td>3.0</td>\n      <td>0.0</td>\n      <td>2.0</td>\n      <td>2.0</td>\n      <td>0.0</td>\n      <td>7.0</td>\n    </tr>\n    <tr>\n      <th>NK</th>\n      <td>0.0</td>\n      <td>0.0</td>\n      <td>0.0</td>\n      <td>6.0</td>\n      <td>1.0</td>\n      <td>7.0</td>\n    </tr>\n    <tr>\n      <th>DailySum</th>\n      <td>14.0</td>\n      <td>14.0</td>\n      <td>14.0</td>\n      <td>14.0</td>\n      <td>14.0</td>\n      <td>70.0</td>\n    </tr>\n    <tr>\n      <th>Cost</th>\n      <td>NaN</td>\n      <td>NaN</td>\n      <td>NaN</td>\n      <td>NaN</td>\n      <td>NaN</td>\n      <td>709.6</td>\n    </tr>\n  </tbody>\n</table>\n</div>"
     },
     "execution_count": 1,
     "metadata": {},
     "output_type": "execute_result"
    }
   ],
   "source": [
    "from scipy.optimize import linprog\n",
    "import pandas as pd\n",
    "\n",
    "# Datos ajustados\n",
    "operators = [\"KC\", \"DH\", \"HB\", \"SC\", \"KS\", \"NK\"]\n",
    "wage = {\"KC\": 10.00, \"DH\": 10.10, \"HB\": 9.90, \"SC\": 9.80, \"KS\": 10.80, \"NK\": 11.30}\n",
    "days = [\"Mon\", \"Tue\", \"Wed\", \"Thu\", \"Fri\"]\n",
    "max_hours = {\n",
    "    (\"KC\",\"Mon\"):6, (\"KC\",\"Tue\"):0, (\"KC\",\"Wed\"):6, (\"KC\",\"Thu\"):0, (\"KC\",\"Fri\"):6,\n",
    "    (\"DH\",\"Mon\"):0, (\"DH\",\"Tue\"):6, (\"DH\",\"Wed\"):0, (\"DH\",\"Thu\"):6, (\"DH\",\"Fri\"):0,\n",
    "    (\"HB\",\"Mon\"):4, (\"HB\",\"Tue\"):8, (\"HB\",\"Wed\"):4, (\"HB\",\"Thu\"):0, (\"HB\",\"Fri\"):4,\n",
    "    (\"SC\",\"Mon\"):5, (\"SC\",\"Tue\"):5, (\"SC\",\"Wed\"):5, (\"SC\",\"Thu\"):0, (\"SC\",\"Fri\"):5,\n",
    "    (\"KS\",\"Mon\"):3, (\"KS\",\"Tue\"):0, (\"KS\",\"Wed\"):3, (\"KS\",\"Thu\"):8, (\"KS\",\"Fri\"):0,\n",
    "    (\"NK\",\"Mon\"):0, (\"NK\",\"Tue\"):0, (\"NK\",\"Wed\"):0, (\"NK\",\"Thu\"):6, (\"NK\",\"Fri\"):2\n",
    "}\n",
    "min_week = {\"KC\":8, \"DH\":8, \"HB\":8, \"SC\":8, \"KS\":7, \"NK\":7}\n",
    "\n",
    "# Índices\n",
    "idx = [(i,d) for i in operators for d in days]\n",
    "\n",
    "# Objetivo\n",
    "c = [wage[i] for (i,d) in idx]\n",
    "\n",
    "# Restricciones\n",
    "A_eq = [[1 if dd==d else 0 for (i,dd) in idx] for d in days]\n",
    "b_eq = [14]*len(days)\n",
    "\n",
    "A_ub = [[-1 if ii==i else 0 for (ii,d) in idx] for i in operators]\n",
    "b_ub = [-min_week[i] for i in operators]\n",
    "\n",
    "bounds = [(0, max_hours[(i,d)]) for (i,d) in idx]\n",
    "\n",
    "res = linprog(c, A_ub=A_ub, b_ub=b_ub, A_eq=A_eq, b_eq=b_eq, bounds=bounds, method='highs')\n",
    "\n",
    "# Preparar resultado con 4 decimales\n",
    "data = {d: [] for d in days}\n",
    "for i in operators:\n",
    "    for d in days:\n",
    "        data[d].append(round(res.x[idx.index((i,d))],4))\n",
    "df = pd.DataFrame(data, index=operators)\n",
    "df[\"Total\"] = df.sum(axis=1).round(4)\n",
    "df.loc[\"DailySum\"] = df.sum(axis=0).round(4)\n",
    "df.loc[\"Cost\",\"Total\"] = round(res.fun,4)\n",
    "df\n",
    "\n"
   ],
   "metadata": {
    "collapsed": false,
    "ExecuteTime": {
     "end_time": "2025-05-18T05:03:51.269070800Z",
     "start_time": "2025-05-18T05:03:50.524531600Z"
    }
   },
   "id": "9e6270c2e094971f",
   "execution_count": 1
  }
 ],
 "metadata": {
  "kernelspec": {
   "display_name": "Python 3",
   "language": "python",
   "name": "python3"
  },
  "language_info": {
   "codemirror_mode": {
    "name": "ipython",
    "version": 2
   },
   "file_extension": ".py",
   "mimetype": "text/x-python",
   "name": "python",
   "nbconvert_exporter": "python",
   "pygments_lexer": "ipython2",
   "version": "2.7.6"
  }
 },
 "nbformat": 4,
 "nbformat_minor": 5
}
