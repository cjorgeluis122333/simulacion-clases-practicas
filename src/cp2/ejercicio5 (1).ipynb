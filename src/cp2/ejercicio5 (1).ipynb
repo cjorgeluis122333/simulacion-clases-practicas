{
 "cells": [
  {
   "cell_type": "markdown",
   "id": "39d26868-2c81-42d5-b885-6e4e00700a3d",
   "metadata": {},
   "source": [
    "# Ejercicio 5\n",
    "\n",
    "## Prueba de Kolmogorov-Smirnov (K-S)\n",
    "\n",
    "La **Prueba de K-S** es una prueba **no paramétrica** que compara una muestra de datos con una distribución de referencia (en este caso, la distribución uniforme).  \n",
    "\n",
    "### **¿Cómo funciona?**  \n",
    "La prueba calcula la estadística **D**, que mide la **máxima diferencia** entre:  \n",
    "- La **función de distribución acumulada (CDF)** de la muestra.  \n",
    "- La **CDF de la distribución de referencia**.  \n",
    "\n",
    "Además, proporciona un **p-valor**, que indica si la muestra sigue la distribución de referencia.\n",
    "\n",
    "### **Interpretación del p-valor:**\n",
    "\n",
    "- **Si \\( p > 0.05 \\)**:  \n",
    "  No hay evidencia suficiente para rechazar la hipótesis de que la muestra sigue la distribución de referencia.  \n",
    "  *Esto sugiere que los datos podrían ajustarse bien a la distribución uniforme.*\n",
    "\n",
    "- **Si \\( p \\leq 0.05 \\)**:  \n",
    "  Se rechaza la hipótesis de que la muestra sigue la distribución de referencia.  \n",
    "  *Esto indica que los datos no se ajustan a la distribución uniforme.*  \n"
   ]
  },
  {
   "cell_type": "code",
   "execution_count": 91,
   "id": "fa91094f-6754-47e0-8b2e-d6ca126283eb",
   "metadata": {},
   "outputs": [
    {
     "name": "stdout",
     "output_type": "stream",
     "text": [
      "Subconjunto de 50 datos:\n",
      "  Estadístico D: 0.6\n",
      "  p-valor: 9.634070456142374e-18\n",
      "  El subconjunto NO sigue una distribución uniforme.\n",
      "--------------------------------------------------\n",
      "Subconjunto de 100 datos:\n",
      "  Estadístico D: 0.5448865433575392\n",
      "  p-valor: 2.3126071208647338e-28\n",
      "  El subconjunto NO sigue una distribución uniforme.\n",
      "--------------------------------------------------\n",
      "Subconjunto de 150 datos:\n",
      "  Estadístico D: 0.5282198766908724\n",
      "  p-valor: 1.485139097411313e-39\n",
      "  El subconjunto NO sigue una distribución uniforme.\n",
      "--------------------------------------------------\n",
      "Subconjunto de 200 datos:\n",
      "  Estadístico D: 0.5\n",
      "  p-valor: 9.256385411205685e-47\n",
      "  El subconjunto NO sigue una distribución uniforme.\n",
      "--------------------------------------------------\n",
      "Subconjunto de 250 datos:\n",
      "  Estadístico D: 0.484\n",
      "  p-valor: 1.943987931821234e-54\n",
      "  El subconjunto NO sigue una distribución uniforme.\n",
      "--------------------------------------------------\n"
     ]
    }
   ],
   "source": [
    "import numpy as np\n",
    "from scipy.stats import kstest, norm\n",
    "\n",
    "# Generar 250 números con distribución normal\n",
    "np.random.seed(42)  # Para reproducibilidad\n",
    "datos_normales = np.random.normal(loc=0, scale=1, size=250)\n",
    "\n",
    "# Definir los tamaños de los subconjuntos\n",
    "tamanos_subconjuntos = [50, 100, 150, 200, 250]\n",
    "\n",
    "# Aplicar la Prueba de K-S a cada subconjunto\n",
    "for tamano in tamanos_subconjuntos:\n",
    "    subconjunto = datos_normales[:tamano]\n",
    "    estadistico_D, p_valor = kstest(subconjunto, 'uniform', args=(0, 1))  # Comparar con uniforme en [0, 1]\n",
    "    print(f\"Subconjunto de {tamano} datos:\")\n",
    "    print(f\"  Estadístico D: {estadistico_D}\")\n",
    "    print(f\"  p-valor: {p_valor}\")\n",
    "    if p_valor > 0.05:\n",
    "        print(\"  No hay evidencia suficiente para rechazar que el subconjunto sigue una distribución uniforme.\")\n",
    "    else:\n",
    "        print(\"  El subconjunto NO sigue una distribución uniforme.\")\n",
    "    print(\"-\" * 50)"
   ]
  },
  {
   "cell_type": "markdown",
   "id": "310fe52f-260e-4634-9add-f0aba77d39cd",
   "metadata": {},
   "source": [
    "## Explicación del Código\n",
    "\n",
    "### **Generación de datos:**\n",
    "- Se generan **250 números** con distribución normal usando `np.random.normal`.\n",
    "- La **media (`loc`)** es **0** y la **desviación estándar (`scale`)** es **1**.\n",
    "\n",
    "### **Subconjuntos:**\n",
    "- Se definen subconjuntos con los **primeros**:  \n",
    "  - **50**, **100**, **150**, **200** y **250** datos.\n",
    "\n",
    "### **Prueba de Kolmogorov-Smirnov (K-S):**\n",
    "- Para cada subconjunto, se aplica la **prueba de K-S** usando `kstest`.\n",
    "- La prueba compara el subconjunto con una distribución uniforme en el intervalo **[0,1]**.\n",
    "- Se imprimen:\n",
    "  - El **estadístico D** (máxima diferencia entre las CDFs).\n",
    "  - El **p-valor**.\n",
    "\n",
    "### **Interpretación del p-valor:**\n",
    "- **Si \\( p > 0.05 \\)**:  \n",
    "  No hay evidencia suficiente para rechazar que el subconjunto sigue una distribución uniforme.  \n",
    "  *Esto sugiere que los datos podrían ajustarse a la distribución uniforme.*\n",
    "\n",
    "- **Si \\( p < 0.05 \\)**:  \n",
    "  Se rechaza la hipótesis de que el subconjunto sigue una distribución uniforme.  \n",
    "  *Esto indica que los datos no se ajustan a la distribución uniforme.*  \n"
   ]
  },
  {
   "cell_type": "code",
   "execution_count": null,
   "id": "b608a250-22d3-4671-8966-f5fafd2ae472",
   "metadata": {},
   "outputs": [],
   "source": []
  }
 ],
 "metadata": {
  "kernelspec": {
   "display_name": "Python 3 (ipykernel)",
   "language": "python",
   "name": "python3"
  },
  "language_info": {
   "codemirror_mode": {
    "name": "ipython",
    "version": 3
   },
   "file_extension": ".py",
   "mimetype": "text/x-python",
   "name": "python",
   "nbconvert_exporter": "python",
   "pygments_lexer": "ipython3",
   "version": "3.12.7"
  }
 },
 "nbformat": 4,
 "nbformat_minor": 5
}
