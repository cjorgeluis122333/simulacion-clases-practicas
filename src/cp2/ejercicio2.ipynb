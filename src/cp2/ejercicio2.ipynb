{
 "cells": [
  {
   "cell_type": "markdown",
   "id": "756d2b9a-09c6-4310-b188-4fe49d60ceb2",
   "metadata": {},
   "source": [
    "# Ejercicio 2\n",
    "## b) Generar 200 colores aleatorios usando el Teorema Fundamental de la Integral #ojo y en su reciproco\n",
    "\n",
    "El **Teorema Fundamental de la Integral** (o **método de la transformada inversa**) permite generar muestras de una distribución discreta a partir de números aleatorios uniformes.  \n",
    "\n",
    "### **Pasos para generar los colores aleatorios:**\n",
    "\n",
    "1. **Calcular las probabilidades acumuladas:**\n",
    "   \n",
    "   - **Azul**: 0.4  \n",
    "   - **Rojo**: 0.4 + 0.3 = 0.7  \n",
    "   - **Verde**: 0.7 + 0.1 = 0.8  \n",
    "   - **Amarillo**: 0.8 + 0.2 = 1.0  \n",
    "\n",
    "2. **Generar números aleatorios uniformes entre 0 y 1.**\n",
    "\n",
    "3. **Asignar colores según el intervalo en el que caiga el número aleatorio**:\n",
    "\n",
    "   - Si **0 ≤ u < 0.4** → **Azul**\n",
    "   - Si **0.4 ≤ u < 0.7** → **Rojo**\n",
    "   - Si **0.7 ≤ u < 0.8** → **Verde**\n",
    "   - Si **0.8 ≤ u ≤ 1.0** → **Amarillo**\n"
   ]
  },
  {
   "cell_type": "code",
   "execution_count": 1,
   "id": "8449718f-cf7b-42df-9303-86d1916acde6",
   "metadata": {
    "ExecuteTime": {
     "end_time": "2025-03-26T13:28:15.500851100Z",
     "start_time": "2025-03-26T13:28:14.802382800Z"
    }
   },
   "outputs": [
    {
     "name": "stdout",
     "output_type": "stream",
     "text": [
      "Primeros 10 colores generados: ['Azul', 'Amarillo', 'Verde', 'Rojo', 'Azul', 'Azul', 'Azul', 'Amarillo', 'Rojo', 'Verde', 'Azul', 'Amarillo', 'Amarillo', 'Azul', 'Azul', 'Azul', 'Azul', 'Rojo', 'Rojo', 'Azul', 'Rojo', 'Azul', 'Azul', 'Azul', 'Rojo', 'Verde', 'Azul', 'Rojo', 'Rojo', 'Azul', 'Rojo', 'Azul', 'Azul', 'Amarillo', 'Amarillo', 'Amarillo', 'Azul', 'Azul', 'Rojo', 'Rojo', 'Azul', 'Rojo', 'Azul', 'Amarillo', 'Azul', 'Rojo', 'Azul', 'Rojo', 'Rojo', 'Azul', 'Amarillo', 'Verde', 'Amarillo', 'Amarillo', 'Rojo', 'Amarillo', 'Azul', 'Azul', 'Azul', 'Azul', 'Azul', 'Azul', 'Amarillo', 'Azul', 'Azul', 'Rojo', 'Azul', 'Amarillo', 'Azul', 'Amarillo', 'Verde', 'Azul', 'Azul', 'Amarillo', 'Verde', 'Verde', 'Verde', 'Azul', 'Azul', 'Azul', 'Amarillo', 'Rojo', 'Azul', 'Azul', 'Azul', 'Azul', 'Verde', 'Rojo', 'Amarillo', 'Rojo', 'Azul', 'Verde', 'Verde', 'Rojo', 'Verde', 'Rojo', 'Rojo', 'Rojo', 'Azul', 'Azul', 'Azul', 'Rojo', 'Azul', 'Rojo', 'Amarillo', 'Azul', 'Rojo', 'Verde', 'Azul', 'Azul', 'Azul', 'Azul', 'Amarillo', 'Amarillo', 'Rojo', 'Amarillo', 'Amarillo', 'Azul', 'Amarillo', 'Rojo', 'Amarillo', 'Amarillo', 'Azul', 'Azul', 'Azul', 'Rojo', 'Amarillo', 'Amarillo', 'Azul', 'Rojo', 'Rojo', 'Azul', 'Azul', 'Azul', 'Amarillo', 'Azul', 'Rojo', 'Verde', 'Azul', 'Amarillo', 'Amarillo', 'Azul', 'Rojo', 'Azul', 'Azul', 'Azul', 'Rojo', 'Rojo', 'Azul', 'Azul', 'Amarillo', 'Azul', 'Azul', 'Rojo', 'Amarillo', 'Azul', 'Rojo', 'Verde', 'Azul', 'Verde', 'Azul', 'Rojo', 'Rojo', 'Rojo', 'Azul', 'Amarillo', 'Azul', 'Azul', 'Azul', 'Rojo', 'Rojo', 'Azul', 'Rojo', 'Azul', 'Rojo', 'Azul', 'Rojo', 'Azul', 'Amarillo', 'Azul', 'Azul', 'Azul', 'Amarillo', 'Amarillo', 'Azul', 'Rojo', 'Amarillo', 'Rojo', 'Rojo', 'Azul', 'Azul', 'Amarillo', 'Amarillo', 'Rojo', 'Azul', 'Azul', 'Verde', 'Amarillo', 'Amarillo', 'Verde']\n"
     ]
    }
   ],
   "source": [
    "import numpy as np\n",
    "\n",
    "# Definir las probabilidades y colores\n",
    "colores = [\"Azul\", \"Rojo\", \"Verde\", \"Amarillo\"]\n",
    "probabilidades = [0.4, 0.3, 0.1, 0.2]\n",
    "\n",
    "# Calcular las probabilidades acumuladas\n",
    "prob_acumuladas = np.cumsum(probabilidades)\n",
    "\n",
    "# Generar 200 números aleatorios uniformes\n",
    "np.random.seed(42)  # Para reproducibilidad #Esto es la semilla \n",
    "uniformes = np.random.rand(200)\n",
    "\n",
    "# Asignar colores según los números aleatorios\n",
    "muestra = []\n",
    "for u in uniformes:\n",
    "    if u < prob_acumuladas[0]:\n",
    "        muestra.append(colores[0])\n",
    "    elif u < prob_acumuladas[1]:\n",
    "        muestra.append(colores[1])\n",
    "    elif u < prob_acumuladas[2]:\n",
    "        muestra.append(colores[2])\n",
    "    else:\n",
    "        muestra.append(colores[3])\n",
    "\n",
    "# Mostrar los primeros 10 colores generados\n",
    "print(\"Primeros 10 colores generados:\", muestra[:200])"
   ]
  },
  {
   "cell_type": "markdown",
   "id": "1b73d1d4-4353-4dca-b312-3366f918ad97",
   "metadata": {},
   "source": [
    "## c) Probar que la muestra generada se ajusta a una Distribución Discreta\n",
    "\n",
    "Para verificar que la muestra generada sigue la distribución deseada, comparamos las **frecuencias observadas** con las **frecuencias esperadas** usando una **prueba de chi-cuadrado**.\n",
    "\n",
    "### **Pasos:**\n",
    "\n",
    "1. **Calcular frecuencias observadas**  \n",
    "   Contar cuántas veces aparece cada color en la muestra generada.\n",
    "\n",
    "2. **Calcular frecuencias esperadas**  \n",
    "   Multiplicar las probabilidades teóricas por el tamaño de la muestra (200):\n",
    "\n",
    "3. **Realizar la prueba de chi-cuadrado**  \n",
    "   Comparar las frecuencias observadas con las esperadas utilizando la fórmula:\n",
    "\n"
   ]
  },
  {
   "cell_type": "code",
   "execution_count": 84,
   "id": "d013c10e-f0db-46e0-9fb9-d4e78cd88b3d",
   "metadata": {},
   "outputs": [
    {
     "name": "stdout",
     "output_type": "stream",
     "text": [
      "Frecuencias observadas: [90, 50, 18, 42]\n",
      "Frecuencias esperadas: [80.0, 60.0, 20.0, 40.0]\n",
      "Estadístico chi-cuadrado: 3.2166666666666672, p-valor: 0.35941050910650413\n",
      "No hay evidencia suficiente para rechazar que la muestra sigue la distribución deseada.\n"
     ]
    }
   ],
   "source": [
    "from scipy.stats import chisquare\n",
    "\n",
    "# Calcular frecuencias observadas\n",
    "frec_observadas = [muestra.count(color) for color in colores] # Cantidad de veses que aparece el color en la muestra\n",
    "\n",
    "# Calcular frecuencias esperadas\n",
    "frec_esperadas = [prob * 200 for prob in probabilidades]\n",
    "\n",
    "# Realizar la prueba de chi-cuadrado\n",
    "chi2, p_valor = chisquare(frec_observadas, frec_esperadas)\n",
    "\n",
    "print(\"Frecuencias observadas:\", frec_observadas)\n",
    "print(\"Frecuencias esperadas:\", frec_esperadas)\n",
    "print(f\"Estadístico chi-cuadrado: {chi2}, p-valor: {p_valor}\")\n",
    "\n",
    "# Interpretación del p-valor\n",
    "if p_valor > 0.05:\n",
    "    print(\"No hay evidencia suficiente para rechazar que la muestra sigue la distribución deseada.\")\n",
    "else:\n",
    "    print(\"La muestra no sigue la distribución deseada.\")"
   ]
  },
  {
   "cell_type": "markdown",
   "id": "1a678a12-ac78-4a66-9d65-0c71dfd062e1",
   "metadata": {},
   "source": [
    "## Frecuencias observadas:\n",
    "\n",
    "Usamos `muestra.count(color)` para contar cuántas veces aparece cada color en la muestra generada.\n",
    "\n",
    "## Frecuencias esperadas:\n",
    "\n",
    "Multiplicamos las probabilidades dadas por el tamaño de la muestra (200):\n",
    "\n",
    "## Prueba de chi-cuadrado:\n",
    "\n",
    "La función `chisquare` de **SciPy** compara las **frecuencias observadas** con las **frecuencias esperadas**.\n",
    "\n",
    "El **p-valor** indica si hay evidencia suficiente para rechazar la hipótesis de que la muestra sigue la distribución deseada:\n",
    "\n",
    "- Si **p > 0.05**, no hay evidencia suficiente para rechazar la hipótesis, lo que sugiere que la muestra sigue la distribución esperada.  \n",
    "- Si **p ≤ 0.05**, hay evidencia suficiente para rechazar la hipótesis, lo que sugiere que la muestra **no sigue** la distribución deseada.\n"
   ]
  }
 ],
 "metadata": {
  "kernelspec": {
   "display_name": "Python 3 (ipykernel)",
   "language": "python",
   "name": "python3"
  },
  "language_info": {
   "codemirror_mode": {
    "name": "ipython",
    "version": 3
   },
   "file_extension": ".py",
   "mimetype": "text/x-python",
   "name": "python",
   "nbconvert_exporter": "python",
   "pygments_lexer": "ipython3",
   "version": "3.12.7"
  }
 },
 "nbformat": 4,
 "nbformat_minor": 5
}
